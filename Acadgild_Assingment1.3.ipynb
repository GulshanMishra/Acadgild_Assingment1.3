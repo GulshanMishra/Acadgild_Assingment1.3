{
 "cells": [
  {
   "cell_type": "code",
   "execution_count": 2,
   "metadata": {},
   "outputs": [
    {
     "name": "stdout",
     "output_type": "stream",
     "text": [
      "Enter your first name: Gulshan\n",
      "Enter the last name:Mishra\n",
      "nahsluG arhsiM\n"
     ]
    }
   ],
   "source": [
    "####Write a Python program to accept the user's first and last name and then getting them\n",
    "#####printed in the the reverse order with a space between first name and last name.\n",
    "\n",
    "z=input(\"Enter your first name: \")\n",
    "y=input(\"Enter the last name:\")\n",
    "print(z[::-1]+\" \"+y[::-1])"
   ]
  },
  {
   "cell_type": "code",
   "execution_count": null,
   "metadata": {},
   "outputs": [],
   "source": []
  }
 ],
 "metadata": {
  "kernelspec": {
   "display_name": "Python 3",
   "language": "python",
   "name": "python3"
  },
  "language_info": {
   "codemirror_mode": {
    "name": "ipython",
    "version": 3
   },
   "file_extension": ".py",
   "mimetype": "text/x-python",
   "name": "python",
   "nbconvert_exporter": "python",
   "pygments_lexer": "ipython3",
   "version": "3.6.4"
  }
 },
 "nbformat": 4,
 "nbformat_minor": 2
}
